{
  "nbformat": 4,
  "nbformat_minor": 0,
  "metadata": {
    "colab": {
      "provenance": [],
      "authorship_tag": "ABX9TyOYk//gexo969ZNBI92gDII",
      "include_colab_link": true
    },
    "kernelspec": {
      "name": "python3",
      "display_name": "Python 3"
    },
    "language_info": {
      "name": "python"
    }
  },
  "cells": [
    {
      "cell_type": "markdown",
      "metadata": {
        "id": "view-in-github",
        "colab_type": "text"
      },
      "source": [
        "<a href=\"https://colab.research.google.com/github/JulioSilva123/Escolaridade/blob/main/colab/Ola_Mundo.ipynb\" target=\"_parent\"><img src=\"https://colab.research.google.com/assets/colab-badge.svg\" alt=\"Open In Colab\"/></a>"
      ]
    },
    {
      "cell_type": "markdown",
      "source": [
        "Olá Mundo"
      ],
      "metadata": {
        "id": "eX8oojKW0BYL"
      }
    },
    {
      "cell_type": "code",
      "source": [],
      "metadata": {
        "id": "j01DAKFNz_VT"
      },
      "execution_count": null,
      "outputs": []
    }
  ]
}