{
  "nbformat": 4,
  "nbformat_minor": 0,
  "metadata": {
    "colab": {
      "provenance": [],
      "authorship_tag": "ABX9TyOHpGtrhtox2IRXdLd/79Je",
      "include_colab_link": true
    },
    "kernelspec": {
      "name": "python3",
      "display_name": "Python 3"
    },
    "language_info": {
      "name": "python"
    }
  },
  "cells": [
    {
      "cell_type": "markdown",
      "metadata": {
        "id": "view-in-github",
        "colab_type": "text"
      },
      "source": [
        "<a href=\"https://colab.research.google.com/github/JulioSilva123/Escolaridade/blob/main/colab/Ola_Mundo.ipynb\" target=\"_parent\"><img src=\"https://colab.research.google.com/assets/colab-badge.svg\" alt=\"Open In Colab\"/></a>"
      ]
    },
    {
      "cell_type": "markdown",
      "source": [
        "# Olá mundo Seção 1"
      ],
      "metadata": {
        "id": "eX8oojKW0BYL"
      }
    },
    {
      "cell_type": "markdown",
      "source": [
        "Olá Mundo 2"
      ],
      "metadata": {
        "id": "5U0AP_Uw1Ati"
      }
    },
    {
      "cell_type": "code",
      "source": [
        "# Code",
        "plt.show()"
      ],
      "metadata": {
        "id": "j01DAKFNz_VT"
      },
      "execution_count": null,
      "outputs": []
    },
    {
      "cell_type": "markdown",
      "source": [
        "# Nova seção 4"
      ],
      "metadata": {
        "id": "JIAgbw8A1BKg"
      }
    }
  ]
}